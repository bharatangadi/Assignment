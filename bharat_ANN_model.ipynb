{
  "nbformat": 4,
  "nbformat_minor": 0,
  "metadata": {
    "colab": {
      "provenance": []
    },
    "kernelspec": {
      "name": "python3",
      "display_name": "Python 3"
    },
    "language_info": {
      "name": "python"
    }
  },
  "cells": [
    {
      "cell_type": "markdown",
      "source": [
        "Artificial Neural Network\n"
      ],
      "metadata": {
        "id": "7d1ZkHuFyUXw"
      }
    },
    {
      "cell_type": "code",
      "source": [
        "import numpy as np\n",
        "import pandas as pd\n",
        "import tensorflow as tf"
      ],
      "metadata": {
        "id": "WUNEHbIEyWG0"
      },
      "execution_count": 1,
      "outputs": []
    },
    {
      "cell_type": "code",
      "source": [
        "tf.__version__"
      ],
      "metadata": {
        "colab": {
          "base_uri": "https://localhost:8080/",
          "height": 35
        },
        "id": "7O5DbXAByntI",
        "outputId": "4aba7f48-a4f8-4fc2-ed89-be66f42a68b1"
      },
      "execution_count": 2,
      "outputs": [
        {
          "output_type": "execute_result",
          "data": {
            "text/plain": [
              "'2.12.0'"
            ],
            "application/vnd.google.colaboratory.intrinsic+json": {
              "type": "string"
            }
          },
          "metadata": {},
          "execution_count": 2
        }
      ]
    },
    {
      "cell_type": "code",
      "source": [
        "#Importing the dataset\n",
        "dataset = pd.read_csv('Churn_Modelling.csv')\n",
        "X = dataset.iloc[:, 3:-1].values\n",
        "y = dataset.iloc[:, -1].values"
      ],
      "metadata": {
        "id": "V71yVi4KyqwX"
      },
      "execution_count": 3,
      "outputs": []
    },
    {
      "cell_type": "code",
      "source": [
        "X"
      ],
      "metadata": {
        "colab": {
          "base_uri": "https://localhost:8080/"
        },
        "id": "6edz3wYky1fj",
        "outputId": "9c9d10ea-213d-481a-fbe7-c7b8b4d435f1"
      },
      "execution_count": 4,
      "outputs": [
        {
          "output_type": "execute_result",
          "data": {
            "text/plain": [
              "array([[619, 'France', 'Female', ..., 1, 1, 101348.88],\n",
              "       [608, 'Spain', 'Female', ..., 0, 1, 112542.58],\n",
              "       [502, 'France', 'Female', ..., 1, 0, 113931.57],\n",
              "       ...,\n",
              "       [709, 'France', 'Female', ..., 0, 1, 42085.58],\n",
              "       [772, 'Germany', 'Male', ..., 1, 0, 92888.52],\n",
              "       [792, 'France', 'Female', ..., 1, 0, 38190.78]], dtype=object)"
            ]
          },
          "metadata": {},
          "execution_count": 4
        }
      ]
    },
    {
      "cell_type": "code",
      "source": [
        "y"
      ],
      "metadata": {
        "colab": {
          "base_uri": "https://localhost:8080/"
        },
        "id": "Kprtqgviy5pi",
        "outputId": "c7149a97-bb3f-484c-81d0-2a48f9103da4"
      },
      "execution_count": 5,
      "outputs": [
        {
          "output_type": "execute_result",
          "data": {
            "text/plain": [
              "array([1, 0, 1, ..., 1, 1, 0])"
            ]
          },
          "metadata": {},
          "execution_count": 5
        }
      ]
    },
    {
      "cell_type": "code",
      "source": [
        "#Label Encoding the \"Gender\" column\n",
        "from sklearn.preprocessing import LabelEncoder\n",
        "le = LabelEncoder()\n",
        "X[:, 2] = le.fit_transform(X[:, 2])"
      ],
      "metadata": {
        "id": "o9GEFUaEy7xD"
      },
      "execution_count": 6,
      "outputs": []
    },
    {
      "cell_type": "code",
      "source": [
        "X"
      ],
      "metadata": {
        "colab": {
          "base_uri": "https://localhost:8080/"
        },
        "id": "PdmHZrfGzFU3",
        "outputId": "52d0d4cf-33b8-4a1e-ef4c-f33eb283a957"
      },
      "execution_count": 7,
      "outputs": [
        {
          "output_type": "execute_result",
          "data": {
            "text/plain": [
              "array([[619, 'France', 0, ..., 1, 1, 101348.88],\n",
              "       [608, 'Spain', 0, ..., 0, 1, 112542.58],\n",
              "       [502, 'France', 0, ..., 1, 0, 113931.57],\n",
              "       ...,\n",
              "       [709, 'France', 0, ..., 0, 1, 42085.58],\n",
              "       [772, 'Germany', 1, ..., 1, 0, 92888.52],\n",
              "       [792, 'France', 0, ..., 1, 0, 38190.78]], dtype=object)"
            ]
          },
          "metadata": {},
          "execution_count": 7
        }
      ]
    },
    {
      "cell_type": "code",
      "source": [
        "#One Hot Encoding the \"Geography\" column\n",
        "from sklearn.compose import ColumnTransformer\n",
        "from sklearn.preprocessing import OneHotEncoder\n",
        "ct = ColumnTransformer(transformers=[('encoder', OneHotEncoder(), [1])], remainder='passthrough')\n",
        "X = np.array(ct.fit_transform(X))"
      ],
      "metadata": {
        "id": "jh5G99ShzKOq"
      },
      "execution_count": 8,
      "outputs": []
    },
    {
      "cell_type": "code",
      "source": [
        "X"
      ],
      "metadata": {
        "colab": {
          "base_uri": "https://localhost:8080/"
        },
        "id": "mNbNk98OzSJt",
        "outputId": "97108246-ff7a-4057-cee9-b119ea63b487"
      },
      "execution_count": 9,
      "outputs": [
        {
          "output_type": "execute_result",
          "data": {
            "text/plain": [
              "array([[1.0, 0.0, 0.0, ..., 1, 1, 101348.88],\n",
              "       [0.0, 0.0, 1.0, ..., 0, 1, 112542.58],\n",
              "       [1.0, 0.0, 0.0, ..., 1, 0, 113931.57],\n",
              "       ...,\n",
              "       [1.0, 0.0, 0.0, ..., 0, 1, 42085.58],\n",
              "       [0.0, 1.0, 0.0, ..., 1, 0, 92888.52],\n",
              "       [1.0, 0.0, 0.0, ..., 1, 0, 38190.78]], dtype=object)"
            ]
          },
          "metadata": {},
          "execution_count": 9
        }
      ]
    },
    {
      "cell_type": "code",
      "source": [
        "#Splitting the dataset into the Training set and Test set\n",
        "from sklearn.model_selection import train_test_split\n",
        "X_train, X_test, y_train, y_test = train_test_split(X, y, test_size = 0.2, random_state = 0)"
      ],
      "metadata": {
        "id": "D39k3YnOzTPr"
      },
      "execution_count": 10,
      "outputs": []
    },
    {
      "cell_type": "code",
      "source": [
        "X_train"
      ],
      "metadata": {
        "colab": {
          "base_uri": "https://localhost:8080/"
        },
        "id": "RAf_7vIFzbDV",
        "outputId": "0af3e032-44ea-43fc-a31e-fe3b81d07e53"
      },
      "execution_count": 11,
      "outputs": [
        {
          "output_type": "execute_result",
          "data": {
            "text/plain": [
              "array([[0.0, 0.0, 1.0, ..., 1, 0, 163830.64],\n",
              "       [0.0, 1.0, 0.0, ..., 1, 1, 57098.0],\n",
              "       [1.0, 0.0, 0.0, ..., 1, 0, 185630.76],\n",
              "       ...,\n",
              "       [1.0, 0.0, 0.0, ..., 1, 0, 181429.87],\n",
              "       [0.0, 0.0, 1.0, ..., 1, 1, 148750.16],\n",
              "       [0.0, 1.0, 0.0, ..., 1, 0, 118855.26]], dtype=object)"
            ]
          },
          "metadata": {},
          "execution_count": 11
        }
      ]
    },
    {
      "cell_type": "code",
      "source": [
        "X_test"
      ],
      "metadata": {
        "colab": {
          "base_uri": "https://localhost:8080/"
        },
        "id": "HWloRNRWzdoi",
        "outputId": "b010f753-14c8-425a-ac36-f974f43a7d1e"
      },
      "execution_count": 12,
      "outputs": [
        {
          "output_type": "execute_result",
          "data": {
            "text/plain": [
              "array([[0.0, 1.0, 0.0, ..., 1, 1, 192852.67],\n",
              "       [1.0, 0.0, 0.0, ..., 1, 0, 128702.1],\n",
              "       [0.0, 0.0, 1.0, ..., 1, 1, 75732.25],\n",
              "       ...,\n",
              "       [0.0, 0.0, 1.0, ..., 1, 0, 141533.19],\n",
              "       [0.0, 1.0, 0.0, ..., 1, 1, 11276.48],\n",
              "       [0.0, 1.0, 0.0, ..., 1, 0, 192950.6]], dtype=object)"
            ]
          },
          "metadata": {},
          "execution_count": 12
        }
      ]
    },
    {
      "cell_type": "code",
      "source": [
        "y_train"
      ],
      "metadata": {
        "colab": {
          "base_uri": "https://localhost:8080/"
        },
        "id": "DXmPKP4dzfBp",
        "outputId": "f966fe8e-701e-4204-a5b0-166a4f2f5734"
      },
      "execution_count": 13,
      "outputs": [
        {
          "output_type": "execute_result",
          "data": {
            "text/plain": [
              "array([0, 0, 0, ..., 0, 0, 1])"
            ]
          },
          "metadata": {},
          "execution_count": 13
        }
      ]
    },
    {
      "cell_type": "code",
      "source": [
        "y_test"
      ],
      "metadata": {
        "colab": {
          "base_uri": "https://localhost:8080/"
        },
        "id": "7RTq4Hohzgol",
        "outputId": "3008b238-c88f-48ba-9a48-6c407dca7316"
      },
      "execution_count": 14,
      "outputs": [
        {
          "output_type": "execute_result",
          "data": {
            "text/plain": [
              "array([0, 1, 0, ..., 0, 0, 0])"
            ]
          },
          "metadata": {},
          "execution_count": 14
        }
      ]
    },
    {
      "cell_type": "code",
      "source": [
        "#Feature Scaling\n",
        "from sklearn.preprocessing import StandardScaler\n",
        "sc = StandardScaler()\n",
        "X_train = sc.fit_transform(X_train)\n",
        "X_test = sc.transform(X_test)"
      ],
      "metadata": {
        "id": "dzkNIWa0ziB3"
      },
      "execution_count": 15,
      "outputs": []
    },
    {
      "cell_type": "markdown",
      "source": [
        "Building the ANN"
      ],
      "metadata": {
        "id": "nwWVgc_0zwU2"
      }
    },
    {
      "cell_type": "code",
      "source": [
        "#Initializing the ANN\n",
        "ann = tf.keras.models.Sequential()"
      ],
      "metadata": {
        "id": "kUbmQ1tWzozc"
      },
      "execution_count": 16,
      "outputs": []
    },
    {
      "cell_type": "code",
      "source": [
        "#Adding the input layer and the first hidden layer\n",
        "ann.add(tf.keras.layers.Dense(units=6, activation='relu'))\n"
      ],
      "metadata": {
        "id": "RrrDfK7fz4Cg"
      },
      "execution_count": 17,
      "outputs": []
    },
    {
      "cell_type": "code",
      "source": [
        "#Adding the second hidden layer\n",
        "ann.add(tf.keras.layers.Dense(units=6, activation='relu'))"
      ],
      "metadata": {
        "id": "mbSc3dQf0AfN"
      },
      "execution_count": 18,
      "outputs": []
    },
    {
      "cell_type": "code",
      "source": [
        "#Adding the output layer\n",
        "ann.add(tf.keras.layers.Dense(units=1, activation='sigmoid'))"
      ],
      "metadata": {
        "id": "NNOYTQp_0HzV"
      },
      "execution_count": 19,
      "outputs": []
    },
    {
      "cell_type": "markdown",
      "source": [
        "Training the ANN"
      ],
      "metadata": {
        "id": "Q7xxPN1Z0SJZ"
      }
    },
    {
      "cell_type": "code",
      "source": [
        "#Compiling the ANN\n",
        "ann.compile(optimizer = 'adam', loss = 'binary_crossentropy', metrics = ['accuracy'])"
      ],
      "metadata": {
        "id": "hh2UyyCT0Oe7"
      },
      "execution_count": 20,
      "outputs": []
    },
    {
      "cell_type": "code",
      "source": [
        "#Training the ANN on the Training set\n",
        "ann.fit(X_train, y_train, batch_size = 42, epochs = 100)"
      ],
      "metadata": {
        "colab": {
          "base_uri": "https://localhost:8080/"
        },
        "id": "oESF6ig60blx",
        "outputId": "5aeb249a-4cc4-4f7e-ecd6-836b9029c266"
      },
      "execution_count": 29,
      "outputs": [
        {
          "output_type": "stream",
          "name": "stdout",
          "text": [
            "Epoch 1/100\n",
            "191/191 [==============================] - 1s 2ms/step - loss: 0.3294 - accuracy: 0.8654\n",
            "Epoch 2/100\n",
            "191/191 [==============================] - 0s 2ms/step - loss: 0.3296 - accuracy: 0.8656\n",
            "Epoch 3/100\n",
            "191/191 [==============================] - 0s 2ms/step - loss: 0.3301 - accuracy: 0.8660\n",
            "Epoch 4/100\n",
            "191/191 [==============================] - 0s 2ms/step - loss: 0.3297 - accuracy: 0.8665\n",
            "Epoch 5/100\n",
            "191/191 [==============================] - 0s 2ms/step - loss: 0.3296 - accuracy: 0.8652\n",
            "Epoch 6/100\n",
            "191/191 [==============================] - 0s 2ms/step - loss: 0.3298 - accuracy: 0.8644\n",
            "Epoch 7/100\n",
            "191/191 [==============================] - 0s 2ms/step - loss: 0.3297 - accuracy: 0.8651\n",
            "Epoch 8/100\n",
            "191/191 [==============================] - 0s 2ms/step - loss: 0.3294 - accuracy: 0.8660\n",
            "Epoch 9/100\n",
            "191/191 [==============================] - 0s 2ms/step - loss: 0.3302 - accuracy: 0.8654\n",
            "Epoch 10/100\n",
            "191/191 [==============================] - 0s 2ms/step - loss: 0.3298 - accuracy: 0.8658\n",
            "Epoch 11/100\n",
            "191/191 [==============================] - 0s 2ms/step - loss: 0.3298 - accuracy: 0.8656\n",
            "Epoch 12/100\n",
            "191/191 [==============================] - 0s 2ms/step - loss: 0.3291 - accuracy: 0.8661\n",
            "Epoch 13/100\n",
            "191/191 [==============================] - 0s 2ms/step - loss: 0.3295 - accuracy: 0.8651\n",
            "Epoch 14/100\n",
            "191/191 [==============================] - 0s 2ms/step - loss: 0.3294 - accuracy: 0.8665\n",
            "Epoch 15/100\n",
            "191/191 [==============================] - 0s 2ms/step - loss: 0.3293 - accuracy: 0.8665\n",
            "Epoch 16/100\n",
            "191/191 [==============================] - 0s 2ms/step - loss: 0.3292 - accuracy: 0.8669\n",
            "Epoch 17/100\n",
            "191/191 [==============================] - 0s 2ms/step - loss: 0.3295 - accuracy: 0.8664\n",
            "Epoch 18/100\n",
            "191/191 [==============================] - 0s 2ms/step - loss: 0.3293 - accuracy: 0.8661\n",
            "Epoch 19/100\n",
            "191/191 [==============================] - 0s 2ms/step - loss: 0.3294 - accuracy: 0.8662\n",
            "Epoch 20/100\n",
            "191/191 [==============================] - 0s 2ms/step - loss: 0.3292 - accuracy: 0.8649\n",
            "Epoch 21/100\n",
            "191/191 [==============================] - 0s 2ms/step - loss: 0.3297 - accuracy: 0.8668\n",
            "Epoch 22/100\n",
            "191/191 [==============================] - 0s 2ms/step - loss: 0.3291 - accuracy: 0.8660\n",
            "Epoch 23/100\n",
            "191/191 [==============================] - 0s 2ms/step - loss: 0.3291 - accuracy: 0.8661\n",
            "Epoch 24/100\n",
            "191/191 [==============================] - 0s 2ms/step - loss: 0.3293 - accuracy: 0.8661\n",
            "Epoch 25/100\n",
            "191/191 [==============================] - 0s 2ms/step - loss: 0.3293 - accuracy: 0.8660\n",
            "Epoch 26/100\n",
            "191/191 [==============================] - 0s 2ms/step - loss: 0.3297 - accuracy: 0.8664\n",
            "Epoch 27/100\n",
            "191/191 [==============================] - 1s 3ms/step - loss: 0.3290 - accuracy: 0.8658\n",
            "Epoch 28/100\n",
            "191/191 [==============================] - 0s 3ms/step - loss: 0.3293 - accuracy: 0.8659\n",
            "Epoch 29/100\n",
            "191/191 [==============================] - 1s 3ms/step - loss: 0.3289 - accuracy: 0.8665\n",
            "Epoch 30/100\n",
            "191/191 [==============================] - 0s 3ms/step - loss: 0.3292 - accuracy: 0.8660\n",
            "Epoch 31/100\n",
            "191/191 [==============================] - 1s 3ms/step - loss: 0.3290 - accuracy: 0.8666\n",
            "Epoch 32/100\n",
            "191/191 [==============================] - 1s 3ms/step - loss: 0.3292 - accuracy: 0.8658\n",
            "Epoch 33/100\n",
            "191/191 [==============================] - 0s 2ms/step - loss: 0.3293 - accuracy: 0.8656\n",
            "Epoch 34/100\n",
            "191/191 [==============================] - 0s 2ms/step - loss: 0.3291 - accuracy: 0.8664\n",
            "Epoch 35/100\n",
            "191/191 [==============================] - 0s 2ms/step - loss: 0.3289 - accuracy: 0.8661\n",
            "Epoch 36/100\n",
            "191/191 [==============================] - 0s 2ms/step - loss: 0.3291 - accuracy: 0.8654\n",
            "Epoch 37/100\n",
            "191/191 [==============================] - 0s 2ms/step - loss: 0.3293 - accuracy: 0.8651\n",
            "Epoch 38/100\n",
            "191/191 [==============================] - 0s 2ms/step - loss: 0.3290 - accuracy: 0.8662\n",
            "Epoch 39/100\n",
            "191/191 [==============================] - 0s 2ms/step - loss: 0.3293 - accuracy: 0.8660\n",
            "Epoch 40/100\n",
            "191/191 [==============================] - 0s 2ms/step - loss: 0.3289 - accuracy: 0.8650\n",
            "Epoch 41/100\n",
            "191/191 [==============================] - 0s 2ms/step - loss: 0.3290 - accuracy: 0.8665\n",
            "Epoch 42/100\n",
            "191/191 [==============================] - 0s 2ms/step - loss: 0.3294 - accuracy: 0.8650\n",
            "Epoch 43/100\n",
            "191/191 [==============================] - 0s 2ms/step - loss: 0.3295 - accuracy: 0.8660\n",
            "Epoch 44/100\n",
            "191/191 [==============================] - 0s 2ms/step - loss: 0.3291 - accuracy: 0.8659\n",
            "Epoch 45/100\n",
            "191/191 [==============================] - 0s 2ms/step - loss: 0.3292 - accuracy: 0.8665\n",
            "Epoch 46/100\n",
            "191/191 [==============================] - 0s 2ms/step - loss: 0.3288 - accuracy: 0.8664\n",
            "Epoch 47/100\n",
            "191/191 [==============================] - 0s 2ms/step - loss: 0.3289 - accuracy: 0.8666\n",
            "Epoch 48/100\n",
            "191/191 [==============================] - 0s 2ms/step - loss: 0.3290 - accuracy: 0.8669\n",
            "Epoch 49/100\n",
            "191/191 [==============================] - 0s 2ms/step - loss: 0.3289 - accuracy: 0.8662\n",
            "Epoch 50/100\n",
            "191/191 [==============================] - 0s 2ms/step - loss: 0.3290 - accuracy: 0.8662\n",
            "Epoch 51/100\n",
            "191/191 [==============================] - 0s 2ms/step - loss: 0.3285 - accuracy: 0.8645\n",
            "Epoch 52/100\n",
            "191/191 [==============================] - 0s 2ms/step - loss: 0.3292 - accuracy: 0.8662\n",
            "Epoch 53/100\n",
            "191/191 [==============================] - 0s 2ms/step - loss: 0.3287 - accuracy: 0.8669\n",
            "Epoch 54/100\n",
            "191/191 [==============================] - 0s 2ms/step - loss: 0.3286 - accuracy: 0.8661\n",
            "Epoch 55/100\n",
            "191/191 [==============================] - 0s 2ms/step - loss: 0.3294 - accuracy: 0.8649\n",
            "Epoch 56/100\n",
            "191/191 [==============================] - 0s 2ms/step - loss: 0.3290 - accuracy: 0.8665\n",
            "Epoch 57/100\n",
            "191/191 [==============================] - 0s 2ms/step - loss: 0.3290 - accuracy: 0.8656\n",
            "Epoch 58/100\n",
            "191/191 [==============================] - 0s 2ms/step - loss: 0.3287 - accuracy: 0.8670\n",
            "Epoch 59/100\n",
            "191/191 [==============================] - 1s 3ms/step - loss: 0.3290 - accuracy: 0.8656\n",
            "Epoch 60/100\n",
            "191/191 [==============================] - 0s 3ms/step - loss: 0.3289 - accuracy: 0.8651\n",
            "Epoch 61/100\n",
            "191/191 [==============================] - 0s 3ms/step - loss: 0.3289 - accuracy: 0.8666\n",
            "Epoch 62/100\n",
            "191/191 [==============================] - 1s 3ms/step - loss: 0.3292 - accuracy: 0.8664\n",
            "Epoch 63/100\n",
            "191/191 [==============================] - 1s 3ms/step - loss: 0.3288 - accuracy: 0.8666\n",
            "Epoch 64/100\n",
            "191/191 [==============================] - 1s 3ms/step - loss: 0.3293 - accuracy: 0.8655\n",
            "Epoch 65/100\n",
            "191/191 [==============================] - 0s 2ms/step - loss: 0.3288 - accuracy: 0.8639\n",
            "Epoch 66/100\n",
            "191/191 [==============================] - 0s 2ms/step - loss: 0.3286 - accuracy: 0.8675\n",
            "Epoch 67/100\n",
            "191/191 [==============================] - 0s 2ms/step - loss: 0.3292 - accuracy: 0.8658\n",
            "Epoch 68/100\n",
            "191/191 [==============================] - 0s 2ms/step - loss: 0.3287 - accuracy: 0.8648\n",
            "Epoch 69/100\n",
            "191/191 [==============================] - 0s 2ms/step - loss: 0.3291 - accuracy: 0.8658\n",
            "Epoch 70/100\n",
            "191/191 [==============================] - 0s 2ms/step - loss: 0.3287 - accuracy: 0.8669\n",
            "Epoch 71/100\n",
            "191/191 [==============================] - 0s 2ms/step - loss: 0.3289 - accuracy: 0.8661\n",
            "Epoch 72/100\n",
            "191/191 [==============================] - 0s 2ms/step - loss: 0.3288 - accuracy: 0.8668\n",
            "Epoch 73/100\n",
            "191/191 [==============================] - 0s 2ms/step - loss: 0.3289 - accuracy: 0.8669\n",
            "Epoch 74/100\n",
            "191/191 [==============================] - 0s 2ms/step - loss: 0.3290 - accuracy: 0.8646\n",
            "Epoch 75/100\n",
            "191/191 [==============================] - 0s 2ms/step - loss: 0.3287 - accuracy: 0.8662\n",
            "Epoch 76/100\n",
            "191/191 [==============================] - 0s 2ms/step - loss: 0.3289 - accuracy: 0.8671\n",
            "Epoch 77/100\n",
            "191/191 [==============================] - 0s 2ms/step - loss: 0.3289 - accuracy: 0.8643\n",
            "Epoch 78/100\n",
            "191/191 [==============================] - 0s 2ms/step - loss: 0.3286 - accuracy: 0.8656\n",
            "Epoch 79/100\n",
            "191/191 [==============================] - 0s 2ms/step - loss: 0.3290 - accuracy: 0.8648\n",
            "Epoch 80/100\n",
            "191/191 [==============================] - 0s 2ms/step - loss: 0.3286 - accuracy: 0.8664\n",
            "Epoch 81/100\n",
            "191/191 [==============================] - 0s 2ms/step - loss: 0.3289 - accuracy: 0.8656\n",
            "Epoch 82/100\n",
            "191/191 [==============================] - 0s 2ms/step - loss: 0.3284 - accuracy: 0.8671\n",
            "Epoch 83/100\n",
            "191/191 [==============================] - 0s 2ms/step - loss: 0.3288 - accuracy: 0.8674\n",
            "Epoch 84/100\n",
            "191/191 [==============================] - 0s 2ms/step - loss: 0.3287 - accuracy: 0.8679\n",
            "Epoch 85/100\n",
            "191/191 [==============================] - 0s 2ms/step - loss: 0.3286 - accuracy: 0.8659\n",
            "Epoch 86/100\n",
            "191/191 [==============================] - 0s 2ms/step - loss: 0.3289 - accuracy: 0.8658\n",
            "Epoch 87/100\n",
            "191/191 [==============================] - 0s 2ms/step - loss: 0.3289 - accuracy: 0.8662\n",
            "Epoch 88/100\n",
            "191/191 [==============================] - 0s 2ms/step - loss: 0.3289 - accuracy: 0.8665\n",
            "Epoch 89/100\n",
            "191/191 [==============================] - 0s 2ms/step - loss: 0.3287 - accuracy: 0.8654\n",
            "Epoch 90/100\n",
            "191/191 [==============================] - 0s 2ms/step - loss: 0.3286 - accuracy: 0.8666\n",
            "Epoch 91/100\n",
            "191/191 [==============================] - 1s 3ms/step - loss: 0.3293 - accuracy: 0.8662\n",
            "Epoch 92/100\n",
            "191/191 [==============================] - 1s 3ms/step - loss: 0.3285 - accuracy: 0.8669\n",
            "Epoch 93/100\n",
            "191/191 [==============================] - 1s 3ms/step - loss: 0.3292 - accuracy: 0.8658\n",
            "Epoch 94/100\n",
            "191/191 [==============================] - 1s 3ms/step - loss: 0.3286 - accuracy: 0.8662\n",
            "Epoch 95/100\n",
            "191/191 [==============================] - 1s 3ms/step - loss: 0.3291 - accuracy: 0.8664\n",
            "Epoch 96/100\n",
            "191/191 [==============================] - 1s 3ms/step - loss: 0.3286 - accuracy: 0.8658\n",
            "Epoch 97/100\n",
            "191/191 [==============================] - 0s 2ms/step - loss: 0.3291 - accuracy: 0.8669\n",
            "Epoch 98/100\n",
            "191/191 [==============================] - 0s 2ms/step - loss: 0.3292 - accuracy: 0.8664\n",
            "Epoch 99/100\n",
            "191/191 [==============================] - 0s 2ms/step - loss: 0.3289 - accuracy: 0.8668\n",
            "Epoch 100/100\n",
            "191/191 [==============================] - 0s 2ms/step - loss: 0.3290 - accuracy: 0.8659\n"
          ]
        },
        {
          "output_type": "execute_result",
          "data": {
            "text/plain": [
              "<keras.callbacks.History at 0x7f7aa15d8250>"
            ]
          },
          "metadata": {},
          "execution_count": 29
        }
      ]
    },
    {
      "cell_type": "markdown",
      "source": [
        " Making the predictions and evaluating the mode"
      ],
      "metadata": {
        "id": "CrXOWKrk0w2D"
      }
    },
    {
      "cell_type": "code",
      "source": [
        "#Predicting the result of a single observation\n",
        "print(ann.predict(sc.transform([[1, 0, 0, 600, 1, 40, 3, 60000, 2, 1, 1, 50000]])) > 0.5)"
      ],
      "metadata": {
        "colab": {
          "base_uri": "https://localhost:8080/"
        },
        "id": "lwUBiREo0ir8",
        "outputId": "f280ed70-ede5-4ece-c25a-920a32f5a944"
      },
      "execution_count": 30,
      "outputs": [
        {
          "output_type": "stream",
          "name": "stdout",
          "text": [
            "1/1 [==============================] - 0s 25ms/step\n",
            "[[False]]\n"
          ]
        }
      ]
    },
    {
      "cell_type": "code",
      "source": [
        "#Predicting the Test set results\n",
        "y_pred = ann.predict(X_test)\n",
        "y_pred = (y_pred > 0.5)\n",
        "print(np.concatenate((y_pred.reshape(len(y_pred),1), y_test.reshape(len(y_test),1)),1))"
      ],
      "metadata": {
        "colab": {
          "base_uri": "https://localhost:8080/"
        },
        "id": "vTvSqu9R04df",
        "outputId": "1725e5ce-8ae0-4ff5-d855-dba2b408e75b"
      },
      "execution_count": 31,
      "outputs": [
        {
          "output_type": "stream",
          "name": "stdout",
          "text": [
            "63/63 [==============================] - 0s 1ms/step\n",
            "[[0 0]\n",
            " [0 1]\n",
            " [0 0]\n",
            " ...\n",
            " [0 0]\n",
            " [0 0]\n",
            " [0 0]]\n"
          ]
        }
      ]
    },
    {
      "cell_type": "code",
      "source": [
        "#Making the Confusion Matrix\n",
        "from sklearn.metrics import confusion_matrix, accuracy_score\n",
        "cm = confusion_matrix(y_test, y_pred)\n",
        "print(cm)\n",
        "accuracy_score(y_test, y_pred)"
      ],
      "metadata": {
        "colab": {
          "base_uri": "https://localhost:8080/"
        },
        "id": "GLvTQwFx1B1x",
        "outputId": "62043ebc-7c3e-4244-bbc1-c8fd4ebeaec7"
      },
      "execution_count": 32,
      "outputs": [
        {
          "output_type": "stream",
          "name": "stdout",
          "text": [
            "[[1497   98]\n",
            " [ 193  212]]\n"
          ]
        },
        {
          "output_type": "execute_result",
          "data": {
            "text/plain": [
              "0.8545"
            ]
          },
          "metadata": {},
          "execution_count": 32
        }
      ]
    },
    {
      "cell_type": "code",
      "source": [],
      "metadata": {
        "id": "E5suYw861IJ6"
      },
      "execution_count": null,
      "outputs": []
    }
  ]
}